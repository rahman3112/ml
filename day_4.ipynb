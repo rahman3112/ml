{
 "cells": [
  {
   "cell_type": "code",
   "execution_count": 5,
   "id": "62490ce5",
   "metadata": {},
   "outputs": [
    {
     "name": "stdout",
     "output_type": "stream",
     "text": [
      "Linear SVC Accuracy: 0.9825\n",
      "RBF SVC Accuracy: 0.9825\n"
     ]
    }
   ],
   "source": [
    "# day_4_cleaned.py: SVM Training on Breast Cancer Dataset (Accuracy Only)\n",
    "\n",
    "import pandas as pd\n",
    "import numpy as np\n",
    "from sklearn.datasets import load_breast_cancer\n",
    "from sklearn.model_selection import train_test_split, GridSearchCV\n",
    "from sklearn.preprocessing import StandardScaler\n",
    "from sklearn.svm import SVC\n",
    "from sklearn.metrics import accuracy_score\n",
    "\n",
    "# === 1. Load and Preprocess Breast Cancer Dataset ===\n",
    "\n",
    "# Load dataset\n",
    "data = load_breast_cancer()\n",
    "X = pd.DataFrame(data.data, columns=data.feature_names)\n",
    "y = data.target  # 0: malignant, 1: benign\n",
    "\n",
    "# Split train/test sets\n",
    "X_train, X_test, y_train, y_test = train_test_split(X, y, test_size=0.2, random_state=42)\n",
    "\n",
    "# Scale features\n",
    "scaler = StandardScaler()\n",
    "X_train_scaled = scaler.fit_transform(X_train)\n",
    "X_test_scaled = scaler.transform(X_test)\n",
    "\n",
    "# === 2. Train and Tune Linear SVC ===\n",
    "\n",
    "param_grid_linear = {'C': [0.001, 0.01, 0.1, 1, 10, 100]}\n",
    "svc_linear = SVC(kernel='linear', random_state=42)\n",
    "grid_linear = GridSearchCV(svc_linear, param_grid_linear, cv=5, scoring='accuracy', n_jobs=-1)\n",
    "grid_linear.fit(X_train_scaled, y_train)\n",
    "\n",
    "best_linear = grid_linear.best_estimator_\n",
    "y_pred_linear = best_linear.predict(X_test_scaled)\n",
    "linear_accuracy = accuracy_score(y_test, y_pred_linear)\n",
    "print(f\"Linear SVC Accuracy: {linear_accuracy:.4f}\")\n",
    "\n",
    "# === 3. Train and Tune RBF SVC ===\n",
    "\n",
    "param_grid_rbf = {\n",
    "    'C': [0.001, 0.01, 0.1, 1, 10, 100],\n",
    "    'gamma': ['scale', 'auto', 0.001, 0.01, 0.1]\n",
    "}\n",
    "svc_rbf = SVC(kernel='rbf', random_state=42)\n",
    "grid_rbf = GridSearchCV(svc_rbf, param_grid_rbf, cv=5, scoring='accuracy', n_jobs=-1)\n",
    "grid_rbf.fit(X_train_scaled, y_train)\n",
    "\n",
    "best_rbf = grid_rbf.best_estimator_\n",
    "y_pred_rbf = best_rbf.predict(X_test_scaled)\n",
    "rbf_accuracy = accuracy_score(y_test, y_pred_rbf)\n",
    "print(f\"RBF SVC Accuracy: {rbf_accuracy:.4f}\")\n"
   ]
  },
  {
   "cell_type": "code",
   "execution_count": null,
   "id": "40bd666f",
   "metadata": {},
   "outputs": [],
   "source": []
  },
  {
   "cell_type": "code",
   "execution_count": null,
   "id": "f8b8376b",
   "metadata": {},
   "outputs": [],
   "source": []
  },
  {
   "cell_type": "code",
   "execution_count": null,
   "id": "93da4fdb",
   "metadata": {},
   "outputs": [],
   "source": []
  },
  {
   "cell_type": "code",
   "execution_count": null,
   "id": "2bd33d89",
   "metadata": {},
   "outputs": [],
   "source": []
  }
 ],
 "metadata": {
  "kernelspec": {
   "display_name": "base",
   "language": "python",
   "name": "python3"
  },
  "language_info": {
   "codemirror_mode": {
    "name": "ipython",
    "version": 3
   },
   "file_extension": ".py",
   "mimetype": "text/x-python",
   "name": "python",
   "nbconvert_exporter": "python",
   "pygments_lexer": "ipython3",
   "version": "3.12.7"
  }
 },
 "nbformat": 4,
 "nbformat_minor": 5
}
